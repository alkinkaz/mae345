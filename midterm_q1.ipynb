{
 "cells": [
  {
   "cell_type": "markdown",
   "metadata": {},
   "source": [
    "# MAE345 Midterm: Theory Q1 Calculations\n",
    "## Alkin Kaz (due 11/9/2022)"
   ]
  },
  {
   "cell_type": "markdown",
   "metadata": {},
   "source": [
    "## (Q1.b) Linearizing the Dynamics of the Furuta Pendulum\n",
    "\n",
    "We'll follow similar calculations to what we did in Lab1."
   ]
  },
  {
   "cell_type": "code",
   "execution_count": 1,
   "metadata": {},
   "outputs": [],
   "source": [
    "import sympy as sp\n",
    "import numpy as np\n",
    "from sympy.physics.vector import dynamicsymbols as dynamicsymbols"
   ]
  },
  {
   "cell_type": "code",
   "execution_count": 2,
   "metadata": {},
   "outputs": [],
   "source": [
    "# constants and time\n",
    "g, I_0, L_0, m_1, l_1, J_1, t = sp.symbols(\"g I_0 L_0 m_1 l_1 J_1 t\")\n",
    "numeric_vals = [(g, 9.81), (I_0, 1), (L_0, 1), (m_1, 1), (l_1, 1), (J_1, 1)]\n",
    "\n",
    "# control input\n",
    "tau = sp.symbols(\"tau\")\n",
    "\n",
    "# state variables\n",
    "theta_0, theta_1 = dynamicsymbols(\"theta_0 theta_1\")\n",
    "theta_0_dot = sp.diff(theta_0, t)\n",
    "theta_1_dot = sp.diff(theta_1, t)\n",
    "q_bar_dot = sp.Matrix([theta_0_dot, theta_1_dot])"
   ]
  },
  {
   "cell_type": "code",
   "execution_count": 3,
   "metadata": {},
   "outputs": [],
   "source": [
    "# derived expressions: F, g(q_bar), C(q_bar, q_bar_dot), M(q_bar)\n",
    "F = sp.Matrix([tau, 0])\n",
    "\n",
    "g_func = sp.Matrix([\n",
    "    0,\n",
    "    - m_1 * l_1 * g * sp.sin(theta_1)\n",
    "])\n",
    "\n",
    "C_11 = m_1 * l_1**2 * theta_1_dot * sp.sin(2*theta_1) / 2\n",
    "C_12 = m_1 * l_1**2 * theta_0_dot * sp.sin(2*theta_1) / 2 \\\n",
    "    - m_1 * l_1 * L_0 * theta_1_dot * sp.sin(theta_1)\n",
    "C_21 = - m_1 * l_1**2 * theta_0_dot * sp.sin(2*theta_1) / 2\n",
    "C_22 = 0\n",
    "\n",
    "C = sp.Matrix([\n",
    "    (C_11, C_12),\n",
    "    (C_21, C_22)\n",
    "])\n",
    "\n",
    "M_11 = I_0 + m_1*(L_0**2 + l_1**2 * (sp.sin(theta_1))**2)\n",
    "M_12 = m_1 * l_1 * L_0 * sp.cos(theta_1)\n",
    "M_21 = m_1 * l_1 * L_0 * sp.cos(theta_1)\n",
    "M_22 = J_1 + m_1 * l_1**2\n",
    "\n",
    "M = sp.Matrix([\n",
    "    (M_11, M_12),\n",
    "    (M_21, M_22)\n",
    "])"
   ]
  },
  {
   "cell_type": "code",
   "execution_count": 4,
   "metadata": {},
   "outputs": [],
   "source": [
    "# dynamics / EoM of the system:\n",
    "\n",
    "eq_second_order = M.inv() @ (F - C @ q_bar_dot - g_func)\n",
    "\n",
    "state = sp.Matrix([theta_0, theta_1, theta_0_dot, theta_1_dot])\n",
    "input = sp.Matrix([tau])\n",
    "\n",
    "dynamics = sp.Matrix([\n",
    "    theta_0_dot,\n",
    "    theta_1_dot,\n",
    "    eq_second_order[0],\n",
    "    eq_second_order[1]\n",
    "])"
   ]
  },
  {
   "cell_type": "code",
   "execution_count": 5,
   "metadata": {},
   "outputs": [],
   "source": [
    "# linearization\n",
    "A = dynamics.jacobian(state)\n",
    "B = dynamics.jacobian(input)"
   ]
  },
  {
   "cell_type": "code",
   "execution_count": 6,
   "metadata": {},
   "outputs": [
    {
     "data": {
      "text/latex": [
       "$\\displaystyle \\left[\\begin{matrix}0\\\\0\\\\0\\\\0\\end{matrix}\\right]$"
      ],
      "text/plain": [
       "Matrix([\n",
       "[0],\n",
       "[0],\n",
       "[0],\n",
       "[0]])"
      ]
     },
     "execution_count": 6,
     "metadata": {},
     "output_type": "execute_result"
    }
   ],
   "source": [
    "# plugging in the reference point\n",
    "\n",
    "# interestingly, the order matters. once theta_0 is\n",
    "# subbed, the connection to theta_0_dot is lost\n",
    "ref_state = [\n",
    "    (theta_0_dot, 0),\n",
    "    (theta_1_dot, 0),\n",
    "    (theta_0, 0),\n",
    "    (theta_1, 0)\n",
    "]\n",
    "ref_input = [(tau, 0)]\n",
    "\n",
    "A_symbolic = A.subs(ref_state).subs(ref_input)\n",
    "B_symbolic = B.subs(ref_state).subs(ref_input)\n",
    "\n",
    "# check if the reference point is actually a fixed point\n",
    "dynamics.subs(ref_state).subs(ref_input)"
   ]
  },
  {
   "cell_type": "code",
   "execution_count": 7,
   "metadata": {},
   "outputs": [],
   "source": [
    "# plugging in the numeric values\n",
    "A_arr = np.array(A_symbolic.subs(numeric_vals)).astype(float)\n",
    "B_arr = np.array(B_symbolic.subs(numeric_vals)).astype(float)"
   ]
  },
  {
   "cell_type": "code",
   "execution_count": 8,
   "metadata": {},
   "outputs": [
    {
     "name": "stdout",
     "output_type": "stream",
     "text": [
      "[[ 0.    0.    1.    0.  ]\n",
      " [ 0.    0.    0.    1.  ]\n",
      " [ 0.   -3.27  0.    0.  ]\n",
      " [ 0.    6.54  0.    0.  ]]\n"
     ]
    }
   ],
   "source": [
    "print(A_arr)"
   ]
  },
  {
   "cell_type": "code",
   "execution_count": 9,
   "metadata": {},
   "outputs": [
    {
     "name": "stdout",
     "output_type": "stream",
     "text": [
      "[[ 0.        ]\n",
      " [ 0.        ]\n",
      " [ 0.66666667]\n",
      " [-0.33333333]]\n"
     ]
    }
   ],
   "source": [
    "print(B_arr)"
   ]
  },
  {
   "cell_type": "code",
   "execution_count": 10,
   "metadata": {},
   "outputs": [
    {
     "data": {
      "text/latex": [
       "$\\displaystyle \\left[\\begin{matrix}0 & 0 & 1 & 0\\\\0 & 0 & 0 & 1\\\\0 & - \\frac{L_{0} g l_{1}^{2} m_{1}^{2}}{I_{0} J_{1} + I_{0} l_{1}^{2} m_{1} + J_{1} L_{0}^{2} m_{1}} & 0 & 0\\\\0 & \\frac{g l_{1} m_{1} \\left(I_{0} + L_{0}^{2} m_{1}\\right)}{I_{0} J_{1} + I_{0} l_{1}^{2} m_{1} + J_{1} L_{0}^{2} m_{1}} & 0 & 0\\end{matrix}\\right]$"
      ],
      "text/plain": [
       "Matrix([\n",
       "[0,                                                                        0, 1, 0],\n",
       "[0,                                                                        0, 0, 1],\n",
       "[0,         -L_0*g*l_1**2*m_1**2/(I_0*J_1 + I_0*l_1**2*m_1 + J_1*L_0**2*m_1), 0, 0],\n",
       "[0, g*l_1*m_1*(I_0 + L_0**2*m_1)/(I_0*J_1 + I_0*l_1**2*m_1 + J_1*L_0**2*m_1), 0, 0]])"
      ]
     },
     "execution_count": 10,
     "metadata": {},
     "output_type": "execute_result"
    }
   ],
   "source": [
    "# checking the symbolic A and B\n",
    "A_symbolic"
   ]
  },
  {
   "cell_type": "code",
   "execution_count": 11,
   "metadata": {},
   "outputs": [
    {
     "data": {
      "text/latex": [
       "$\\displaystyle \\left[\\begin{matrix}0\\\\0\\\\\\frac{J_{1} + l_{1}^{2} m_{1}}{I_{0} J_{1} + I_{0} l_{1}^{2} m_{1} + J_{1} L_{0}^{2} m_{1}}\\\\- \\frac{L_{0} l_{1} m_{1}}{I_{0} J_{1} + I_{0} l_{1}^{2} m_{1} + J_{1} L_{0}^{2} m_{1}}\\end{matrix}\\right]$"
      ],
      "text/plain": [
       "Matrix([\n",
       "[                                                             0],\n",
       "[                                                             0],\n",
       "[(J_1 + l_1**2*m_1)/(I_0*J_1 + I_0*l_1**2*m_1 + J_1*L_0**2*m_1)],\n",
       "[      -L_0*l_1*m_1/(I_0*J_1 + I_0*l_1**2*m_1 + J_1*L_0**2*m_1)]])"
      ]
     },
     "execution_count": 11,
     "metadata": {},
     "output_type": "execute_result"
    }
   ],
   "source": [
    "B_symbolic"
   ]
  },
  {
   "cell_type": "markdown",
   "metadata": {},
   "source": [
    "## (Q1.c) LQR of the Furuta Pendulum\n",
    "\n",
    "We will follow what we did in Lab2."
   ]
  },
  {
   "cell_type": "code",
   "execution_count": 12,
   "metadata": {},
   "outputs": [],
   "source": [
    "from scipy.linalg import solve_continuous_are\n",
    "\n",
    "def lqr(A: np.ndarray, B: np.ndarray, Q: np.ndarray, R: np.ndarray) -> np.ndarray:\n",
    "    S = solve_continuous_are(A, B, Q, R)\n",
    "    K = -np.linalg.inv(R) @ B.T @ S\n",
    "    return K"
   ]
  },
  {
   "cell_type": "code",
   "execution_count": 13,
   "metadata": {},
   "outputs": [
    {
     "name": "stdout",
     "output_type": "stream",
     "text": [
      "[[ 1.         60.31467838  3.0490278  24.93652874]]\n"
     ]
    }
   ],
   "source": [
    "Q = np.eye(len(A_arr[0]))\n",
    "R = np.eye(len(B_arr[0]))\n",
    "K = lqr(np.array(A_arr), np.array(B_arr), Q, R)\n",
    "print(K)"
   ]
  }
 ],
 "metadata": {
  "kernelspec": {
   "display_name": "Python 3 (ipykernel)",
   "language": "python",
   "name": "python3"
  },
  "language_info": {
   "codemirror_mode": {
    "name": "ipython",
    "version": 3
   },
   "file_extension": ".py",
   "mimetype": "text/x-python",
   "name": "python",
   "nbconvert_exporter": "python",
   "pygments_lexer": "ipython3",
   "version": "3.7.13"
  },
  "vscode": {
   "interpreter": {
    "hash": "27d53447c0a5d44adb57e5f332c7fdea35e6f16d5ff0137b89f95813e94b679c"
   }
  }
 },
 "nbformat": 4,
 "nbformat_minor": 2
}
